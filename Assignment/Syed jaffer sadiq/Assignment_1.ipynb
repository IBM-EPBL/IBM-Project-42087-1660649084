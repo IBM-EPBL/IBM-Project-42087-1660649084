{
  "nbformat": 4,
  "nbformat_minor": 0,
  "metadata": {
    "colab": {
      "provenance": [],
      "collapsed_sections": []
    },
    "kernelspec": {
      "name": "python3",
      "display_name": "Python 3"
    },
    "language_info": {
      "name": "python"
    }
  },
  "cells": [
    {
      "cell_type": "markdown",
      "source": [
        "# Basic Python"
      ],
      "metadata": {
        "id": "McSxJAwcOdZ1"
      }
    },
    {
      "cell_type": "markdown",
      "source": [
        "## 1. Split this string"
      ],
      "metadata": {
        "id": "CU48hgo4Owz5"
      }
    },
    {
      "cell_type": "code",
      "source": [
        "s = \"Hi there Sam!\""
      ],
      "metadata": {
        "id": "s07c7JK7Oqt-"
      },
      "execution_count": null,
      "outputs": []
    },
    {
      "cell_type": "code",
      "source": [
        "s = \"Hi there Sam!\"\n",
        "s=s.split()\n",
        "print(s);"
      ],
      "metadata": {
        "id": "6mGVa3SQYLkb",
        "outputId": "1255f827-58b3-4205-8bb5-2f6b59d7d4a6",
        "colab": {
          "base_uri": "https://localhost:8080/"
        }
      },
      "execution_count": 2,
      "outputs": [
        {
          "output_type": "stream",
          "name": "stdout",
          "text": [
            "['Hi', 'there', 'Sam!']\n"
          ]
        }
      ]
    },
    {
      "cell_type": "markdown",
      "source": [
        "## 2. Use .format() to print the following string. \n",
        "\n",
        "### Output should be: The diameter of Earth is 12742 kilometers."
      ],
      "metadata": {
        "id": "GH1QBn8HP375"
      }
    },
    {
      "cell_type": "code",
      "source": [
        "planet = \"Earth\"\n",
        "diameter = 12742"
      ],
      "metadata": {
        "id": "_ZHoml3kPqic"
      },
      "execution_count": 3,
      "outputs": []
    },
    {
      "cell_type": "code",
      "source": [
        "planet = \"Earth\"\n",
        "diameter = 12742\n",
        "print( 'The diameter of {} is {} kilometers.' .format(planet,diameter));"
      ],
      "metadata": {
        "id": "HyRyJv6CYPb4",
        "outputId": "03d8f55f-436b-4523-b251-d7832c66054e",
        "colab": {
          "base_uri": "https://localhost:8080/"
        }
      },
      "execution_count": 4,
      "outputs": [
        {
          "output_type": "stream",
          "name": "stdout",
          "text": [
            "The diameter of Earth is 12742 kilometers.\n"
          ]
        }
      ]
    },
    {
      "cell_type": "markdown",
      "source": [
        "## 3. In this nest dictionary grab the word \"hello\""
      ],
      "metadata": {
        "id": "KE74ZEwkRExZ"
      }
    },
    {
      "cell_type": "code",
      "source": [
        "d = {'k1':[1,2,3,{'tricky':['oh','man','inception',{'target':[1,2,3,'hello']}]}]}"
      ],
      "metadata": {
        "id": "fcVwbCc1QrQI"
      },
      "execution_count": 5,
      "outputs": []
    },
    {
      "cell_type": "code",
      "source": [
        "d = {'k1':[1,2,3,{'tricky':['oh','man','inception',{'target':[1,2,3,'hello']}]}]}\n",
        "print(d['k1'][3][\"tricky\"][3]['target'][3])"
      ],
      "metadata": {
        "id": "MvbkMZpXYRaw",
        "outputId": "d2136855-8f99-4f48-c91d-c1ebe6b74742",
        "colab": {
          "base_uri": "https://localhost:8080/"
        }
      },
      "execution_count": 6,
      "outputs": [
        {
          "output_type": "stream",
          "name": "stdout",
          "text": [
            "hello\n"
          ]
        }
      ]
    },
    {
      "cell_type": "markdown",
      "source": [
        "# Numpy"
      ],
      "metadata": {
        "id": "bw0vVp-9ddjv"
      }
    },
    {
      "cell_type": "code",
      "source": [
        "import numpy as np"
      ],
      "metadata": {
        "id": "LLiE_TYrhA1O"
      },
      "execution_count": 7,
      "outputs": []
    },
    {
      "cell_type": "markdown",
      "source": [
        "## 4.1 Create an array of 10 zeros? \n",
        "## 4.2 Create an array of 10 fives?"
      ],
      "metadata": {
        "id": "wOg8hinbgx30"
      }
    },
    {
      "cell_type": "code",
      "source": [
        "import numpy as np\n",
        "array=np.zeros(10)\n",
        "print(array)"
      ],
      "metadata": {
        "id": "NHrirmgCYXvU",
        "outputId": "12823d48-47ff-4d6d-fd32-32123cc1631c",
        "colab": {
          "base_uri": "https://localhost:8080/"
        }
      },
      "execution_count": 8,
      "outputs": [
        {
          "output_type": "stream",
          "name": "stdout",
          "text": [
            "[0. 0. 0. 0. 0. 0. 0. 0. 0. 0.]\n"
          ]
        }
      ]
    },
    {
      "cell_type": "code",
      "source": [
        "import numpy as np\n",
        "array=np.ones(10)*5\n",
        "print (array)"
      ],
      "metadata": {
        "id": "e4005lsTYXxx",
        "outputId": "06a7bc60-31c1-4b0b-d470-173d91433227",
        "colab": {
          "base_uri": "https://localhost:8080/"
        }
      },
      "execution_count": 9,
      "outputs": [
        {
          "output_type": "stream",
          "name": "stdout",
          "text": [
            "[5. 5. 5. 5. 5. 5. 5. 5. 5. 5.]\n"
          ]
        }
      ]
    },
    {
      "cell_type": "markdown",
      "source": [
        "## 5. Create an array of all the even integers from 20 to 35"
      ],
      "metadata": {
        "id": "gZHHDUBvrMX4"
      }
    },
    {
      "cell_type": "code",
      "source": [
        "import numpy as np\n",
        "array=np.arange(20,36,2)\n",
        "print(array)"
      ],
      "metadata": {
        "id": "oAI2tbU2Yag-",
        "outputId": "a73bdd09-e8cc-4c9a-878d-8e860ab5673e",
        "colab": {
          "base_uri": "https://localhost:8080/"
        }
      },
      "execution_count": 10,
      "outputs": [
        {
          "output_type": "stream",
          "name": "stdout",
          "text": [
            "[20 22 24 26 28 30 32 34]\n"
          ]
        }
      ]
    },
    {
      "cell_type": "markdown",
      "source": [
        "## 6. Create a 3x3 matrix with values ranging from 0 to 8"
      ],
      "metadata": {
        "id": "NaOM308NsRpZ"
      }
    },
    {
      "cell_type": "code",
      "source": [
        "import numpy as np\n",
        "x=np.arange(0,9).reshape(3,3)\n",
        "print(x)"
      ],
      "metadata": {
        "id": "tOlEVH7BYceE",
        "outputId": "bb7a68f6-313f-408d-bd37-bb14e11904b7",
        "colab": {
          "base_uri": "https://localhost:8080/"
        }
      },
      "execution_count": 11,
      "outputs": [
        {
          "output_type": "stream",
          "name": "stdout",
          "text": [
            "[[0 1 2]\n",
            " [3 4 5]\n",
            " [6 7 8]]\n"
          ]
        }
      ]
    },
    {
      "cell_type": "markdown",
      "source": [
        "## 7. Concatenate a and b \n",
        "## a = np.array([1, 2, 3]), b = np.array([4, 5, 6])"
      ],
      "metadata": {
        "id": "hQ0dnhAQuU_p"
      }
    },
    {
      "cell_type": "code",
      "source": [
        "import numpy as np\n",
        "a= np.array([1, 2, 3])\n",
        "b = np.array([4, 5, 6])\n",
        "c=np.concatenate((a,b),axis=0)\n",
        "print(c)"
      ],
      "metadata": {
        "id": "rAPSw97aYfE0",
        "outputId": "fced3372-0c8c-4451-adae-cfc01eba2cba",
        "colab": {
          "base_uri": "https://localhost:8080/"
        }
      },
      "execution_count": 12,
      "outputs": [
        {
          "output_type": "stream",
          "name": "stdout",
          "text": [
            "[1 2 3 4 5 6]\n"
          ]
        }
      ]
    },
    {
      "cell_type": "markdown",
      "source": [
        "# Pandas"
      ],
      "metadata": {
        "id": "dlPEY9DRwZga"
      }
    },
    {
      "cell_type": "markdown",
      "source": [
        "## 8. Create a dataframe with 3 rows and 2 columns"
      ],
      "metadata": {
        "id": "ijoYW51zwr87"
      }
    },
    {
      "cell_type": "code",
      "source": [
        "import pandas as pd\n"
      ],
      "metadata": {
        "id": "T5OxJRZ8uvR7"
      },
      "execution_count": 13,
      "outputs": []
    },
    {
      "cell_type": "code",
      "source": [
        "import pandas as pd\n",
        "data = {'Name':['Renault', 'Duster', 'Maruti'], 'Ratings':[9.0, 8.0, 5.0]} \n",
        "df = pd.DataFrame(data, index =['position1', 'position2', 'position3'])\n",
        "print(df)"
      ],
      "metadata": {
        "id": "xNpI_XXoYhs0",
        "outputId": "dbb925d0-882d-426b-c95c-3cb85286229b",
        "colab": {
          "base_uri": "https://localhost:8080/"
        }
      },
      "execution_count": 14,
      "outputs": [
        {
          "output_type": "stream",
          "name": "stdout",
          "text": [
            "              Name  Ratings\n",
            "position1  Renault      9.0\n",
            "position2   Duster      8.0\n",
            "position3   Maruti      5.0\n"
          ]
        }
      ]
    },
    {
      "cell_type": "markdown",
      "source": [
        "## 9. Generate the series of dates from 1st Jan, 2023 to 10th Feb, 2023"
      ],
      "metadata": {
        "id": "UXSmdNclyJQD"
      }
    },
    {
      "cell_type": "code",
      "source": [
        "import pandas as pd\n",
        "  \n",
        "per1 = pd.date_range(start ='1-jan-2023', \n",
        "         end ='10-feb-2023', freq ='5H')\n",
        "  \n",
        "for val in per1:\n",
        "    print(val)"
      ],
      "metadata": {
        "id": "dgyC0JhVYl4F",
        "outputId": "033d02d4-5c64-4e00-cda3-dd4578dcb687",
        "colab": {
          "base_uri": "https://localhost:8080/"
        }
      },
      "execution_count": 15,
      "outputs": [
        {
          "output_type": "stream",
          "name": "stdout",
          "text": [
            "2023-01-01 00:00:00\n",
            "2023-01-01 05:00:00\n",
            "2023-01-01 10:00:00\n",
            "2023-01-01 15:00:00\n",
            "2023-01-01 20:00:00\n",
            "2023-01-02 01:00:00\n",
            "2023-01-02 06:00:00\n",
            "2023-01-02 11:00:00\n",
            "2023-01-02 16:00:00\n",
            "2023-01-02 21:00:00\n",
            "2023-01-03 02:00:00\n",
            "2023-01-03 07:00:00\n",
            "2023-01-03 12:00:00\n",
            "2023-01-03 17:00:00\n",
            "2023-01-03 22:00:00\n",
            "2023-01-04 03:00:00\n",
            "2023-01-04 08:00:00\n",
            "2023-01-04 13:00:00\n",
            "2023-01-04 18:00:00\n",
            "2023-01-04 23:00:00\n",
            "2023-01-05 04:00:00\n",
            "2023-01-05 09:00:00\n",
            "2023-01-05 14:00:00\n",
            "2023-01-05 19:00:00\n",
            "2023-01-06 00:00:00\n",
            "2023-01-06 05:00:00\n",
            "2023-01-06 10:00:00\n",
            "2023-01-06 15:00:00\n",
            "2023-01-06 20:00:00\n",
            "2023-01-07 01:00:00\n",
            "2023-01-07 06:00:00\n",
            "2023-01-07 11:00:00\n",
            "2023-01-07 16:00:00\n",
            "2023-01-07 21:00:00\n",
            "2023-01-08 02:00:00\n",
            "2023-01-08 07:00:00\n",
            "2023-01-08 12:00:00\n",
            "2023-01-08 17:00:00\n",
            "2023-01-08 22:00:00\n",
            "2023-01-09 03:00:00\n",
            "2023-01-09 08:00:00\n",
            "2023-01-09 13:00:00\n",
            "2023-01-09 18:00:00\n",
            "2023-01-09 23:00:00\n",
            "2023-01-10 04:00:00\n",
            "2023-01-10 09:00:00\n",
            "2023-01-10 14:00:00\n",
            "2023-01-10 19:00:00\n",
            "2023-01-11 00:00:00\n",
            "2023-01-11 05:00:00\n",
            "2023-01-11 10:00:00\n",
            "2023-01-11 15:00:00\n",
            "2023-01-11 20:00:00\n",
            "2023-01-12 01:00:00\n",
            "2023-01-12 06:00:00\n",
            "2023-01-12 11:00:00\n",
            "2023-01-12 16:00:00\n",
            "2023-01-12 21:00:00\n",
            "2023-01-13 02:00:00\n",
            "2023-01-13 07:00:00\n",
            "2023-01-13 12:00:00\n",
            "2023-01-13 17:00:00\n",
            "2023-01-13 22:00:00\n",
            "2023-01-14 03:00:00\n",
            "2023-01-14 08:00:00\n",
            "2023-01-14 13:00:00\n",
            "2023-01-14 18:00:00\n",
            "2023-01-14 23:00:00\n",
            "2023-01-15 04:00:00\n",
            "2023-01-15 09:00:00\n",
            "2023-01-15 14:00:00\n",
            "2023-01-15 19:00:00\n",
            "2023-01-16 00:00:00\n",
            "2023-01-16 05:00:00\n",
            "2023-01-16 10:00:00\n",
            "2023-01-16 15:00:00\n",
            "2023-01-16 20:00:00\n",
            "2023-01-17 01:00:00\n",
            "2023-01-17 06:00:00\n",
            "2023-01-17 11:00:00\n",
            "2023-01-17 16:00:00\n",
            "2023-01-17 21:00:00\n",
            "2023-01-18 02:00:00\n",
            "2023-01-18 07:00:00\n",
            "2023-01-18 12:00:00\n",
            "2023-01-18 17:00:00\n",
            "2023-01-18 22:00:00\n",
            "2023-01-19 03:00:00\n",
            "2023-01-19 08:00:00\n",
            "2023-01-19 13:00:00\n",
            "2023-01-19 18:00:00\n",
            "2023-01-19 23:00:00\n",
            "2023-01-20 04:00:00\n",
            "2023-01-20 09:00:00\n",
            "2023-01-20 14:00:00\n",
            "2023-01-20 19:00:00\n",
            "2023-01-21 00:00:00\n",
            "2023-01-21 05:00:00\n",
            "2023-01-21 10:00:00\n",
            "2023-01-21 15:00:00\n",
            "2023-01-21 20:00:00\n",
            "2023-01-22 01:00:00\n",
            "2023-01-22 06:00:00\n",
            "2023-01-22 11:00:00\n",
            "2023-01-22 16:00:00\n",
            "2023-01-22 21:00:00\n",
            "2023-01-23 02:00:00\n",
            "2023-01-23 07:00:00\n",
            "2023-01-23 12:00:00\n",
            "2023-01-23 17:00:00\n",
            "2023-01-23 22:00:00\n",
            "2023-01-24 03:00:00\n",
            "2023-01-24 08:00:00\n",
            "2023-01-24 13:00:00\n",
            "2023-01-24 18:00:00\n",
            "2023-01-24 23:00:00\n",
            "2023-01-25 04:00:00\n",
            "2023-01-25 09:00:00\n",
            "2023-01-25 14:00:00\n",
            "2023-01-25 19:00:00\n",
            "2023-01-26 00:00:00\n",
            "2023-01-26 05:00:00\n",
            "2023-01-26 10:00:00\n",
            "2023-01-26 15:00:00\n",
            "2023-01-26 20:00:00\n",
            "2023-01-27 01:00:00\n",
            "2023-01-27 06:00:00\n",
            "2023-01-27 11:00:00\n",
            "2023-01-27 16:00:00\n",
            "2023-01-27 21:00:00\n",
            "2023-01-28 02:00:00\n",
            "2023-01-28 07:00:00\n",
            "2023-01-28 12:00:00\n",
            "2023-01-28 17:00:00\n",
            "2023-01-28 22:00:00\n",
            "2023-01-29 03:00:00\n",
            "2023-01-29 08:00:00\n",
            "2023-01-29 13:00:00\n",
            "2023-01-29 18:00:00\n",
            "2023-01-29 23:00:00\n",
            "2023-01-30 04:00:00\n",
            "2023-01-30 09:00:00\n",
            "2023-01-30 14:00:00\n",
            "2023-01-30 19:00:00\n",
            "2023-01-31 00:00:00\n",
            "2023-01-31 05:00:00\n",
            "2023-01-31 10:00:00\n",
            "2023-01-31 15:00:00\n",
            "2023-01-31 20:00:00\n",
            "2023-02-01 01:00:00\n",
            "2023-02-01 06:00:00\n",
            "2023-02-01 11:00:00\n",
            "2023-02-01 16:00:00\n",
            "2023-02-01 21:00:00\n",
            "2023-02-02 02:00:00\n",
            "2023-02-02 07:00:00\n",
            "2023-02-02 12:00:00\n",
            "2023-02-02 17:00:00\n",
            "2023-02-02 22:00:00\n",
            "2023-02-03 03:00:00\n",
            "2023-02-03 08:00:00\n",
            "2023-02-03 13:00:00\n",
            "2023-02-03 18:00:00\n",
            "2023-02-03 23:00:00\n",
            "2023-02-04 04:00:00\n",
            "2023-02-04 09:00:00\n",
            "2023-02-04 14:00:00\n",
            "2023-02-04 19:00:00\n",
            "2023-02-05 00:00:00\n",
            "2023-02-05 05:00:00\n",
            "2023-02-05 10:00:00\n",
            "2023-02-05 15:00:00\n",
            "2023-02-05 20:00:00\n",
            "2023-02-06 01:00:00\n",
            "2023-02-06 06:00:00\n",
            "2023-02-06 11:00:00\n",
            "2023-02-06 16:00:00\n",
            "2023-02-06 21:00:00\n",
            "2023-02-07 02:00:00\n",
            "2023-02-07 07:00:00\n",
            "2023-02-07 12:00:00\n",
            "2023-02-07 17:00:00\n",
            "2023-02-07 22:00:00\n",
            "2023-02-08 03:00:00\n",
            "2023-02-08 08:00:00\n",
            "2023-02-08 13:00:00\n",
            "2023-02-08 18:00:00\n",
            "2023-02-08 23:00:00\n",
            "2023-02-09 04:00:00\n",
            "2023-02-09 09:00:00\n",
            "2023-02-09 14:00:00\n",
            "2023-02-09 19:00:00\n",
            "2023-02-10 00:00:00\n"
          ]
        }
      ]
    },
    {
      "cell_type": "markdown",
      "source": [
        "## 10. Create 2D list to DataFrame\n",
        "\n",
        "lists = [[1, 'aaa', 22],\n",
        "         [2, 'bbb', 25],\n",
        "         [3, 'ccc', 24]]"
      ],
      "metadata": {
        "id": "ZizSetD-y5az"
      }
    },
    {
      "cell_type": "code",
      "source": [
        "lists = [[1, 'aaa', 22], [2, 'bbb', 25], [3, 'ccc', 24]]"
      ],
      "metadata": {
        "id": "_XMC8aEt0llB"
      },
      "execution_count": null,
      "outputs": []
    },
    {
      "cell_type": "code",
      "source": [
        "import pandas as pd\n",
        "lists = [[1, 'aaa', 22], [2, 'bbb', 25], [3, 'ccc', 24]]\n",
        "df = pd.DataFrame(data, columns = ['sno','Name', 'Age'])\n",
        "print(df )"
      ],
      "metadata": {
        "id": "knH76sDKYsVX"
      },
      "execution_count": null,
      "outputs": []
    }
  ]
}